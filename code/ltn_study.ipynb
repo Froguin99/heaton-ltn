{
 "cells": [
  {
   "cell_type": "markdown",
   "id": "2bddd093",
   "metadata": {},
   "source": [
    "# imports"
   ]
  },
  {
   "cell_type": "code",
   "execution_count": null,
   "id": "e7d2aa00",
   "metadata": {},
   "outputs": [],
   "source": [
    "import pandas as pd\n",
    "import os\n",
    "import geopandas as gpd\n",
    "import osmnx as ox\n",
    "import matplotlib.pyplot as plt"
   ]
  },
  {
   "cell_type": "code",
   "execution_count": null,
   "id": "22d87ed9",
   "metadata": {},
   "outputs": [],
   "source": [
    "cwd"
   ]
  },
  {
   "cell_type": "markdown",
   "id": "4a062df7",
   "metadata": {},
   "source": [
    "# setup"
   ]
  },
  {
   "cell_type": "code",
   "execution_count": null,
   "id": "ddac72eb",
   "metadata": {
    "vscode": {
     "languageId": "javascript"
    }
   },
   "outputs": [],
   "source": [
    "cwd = os.getcwd()\n",
    "print(cwd)\n",
    "\n",
    "try:\n",
    "    traffic = pd.read_parquet(os.path.join('..', 'data', 'heaton_traffic.parquet'))\n",
    "    sensors = pd.read_parquet(os.path.join('..', 'data', 'heaton_sensors.parquet'))\n",
    "    # add geometry to sensors\n",
    "    sensors = gpd.GeoDataFrame(sensors, geometry=gpd.points_from_xy(sensors.lon, sensors.lat),crs=\"EPSG:4236\")  # British National Grid\n",
    "    print(\"----- Traffic Data -----\")\n",
    "    print(traffic.head(3))\n",
    "    print(\"\")\n",
    "    print(\"----- Sensor Data -----\")\n",
    "    print(sensors.head(3))\n",
    "    print(\"\")\n",
    "\n",
    "\n",
    "except FileNotFoundError:\n",
    "    print(\"Error: Data files not found.\")\n",
    "\n",
    "\n",
    "try:\n",
    "    heaton_polygon = gpd.read_file(os.path.join(\"..\", \"data\", \"heaton_ltn_polygon.gpkg\"))\n",
    "    print(\"----- Heaton LTN Polygon -----\")\n",
    "    print(heaton_polygon)\n",
    "\n",
    "except FileNotFoundError:\n",
    "    print(\"Error: Heaton LTN polygon file not found.\")\n"
   ]
  },
  {
   "cell_type": "code",
   "execution_count": null,
   "id": "9943a260",
   "metadata": {},
   "outputs": [],
   "source": [
    "sensors.geometry.explore(marker_kwds={'radius': 10, 'color': 'red', 'fill': True, 'fillColor': 'red', 'fillOpacity': 0.6})"
   ]
  },
  {
   "cell_type": "code",
   "execution_count": null,
   "id": "fa4122f3",
   "metadata": {},
   "outputs": [],
   "source": [
    "# get street network \n",
    "G = ox.graph_from_bbox(\n",
    "    north=54.994756,\n",
    "    south=54.970025,\n",
    "    west=-1.611626,\n",
    "    east=-1.565620,\n",
    "    network_type=\"all\")\n",
    "\n"
   ]
  },
  {
   "cell_type": "markdown",
   "id": "b15a46ef",
   "metadata": {},
   "source": [
    "# add in/out of ltn tags to sensors"
   ]
  },
  {
   "cell_type": "code",
   "execution_count": null,
   "id": "312c9688",
   "metadata": {},
   "outputs": [],
   "source": [
    "# add default in_study_ltn column to sensors\n",
    "sensors['in_study_ltn'] = False\n",
    "mask = sensors.geometry.within(heaton_polygon.unary_union)\n",
    "sensors.loc[mask, 'in_study_ltn'] = True\n",
    "print(f\"Marked {int(mask.sum())} sensors as in_study_ltn (total sensors: {len(sensors)})\")"
   ]
  },
  {
   "cell_type": "code",
   "execution_count": null,
   "id": "07ee0d58",
   "metadata": {},
   "outputs": [],
   "source": [
    "# project\n",
    "sensors_proj = sensors.to_crs(\"EPSG:27700\")\n",
    "heaton_poly_proj = heaton_polygon.to_crs(\"EPSG:27700\").unary_union\n",
    "\n",
    "buffers = {\n",
    "    'within_50m': 50,\n",
    "    'within_100m': 100,\n",
    "    'within_500m': 500,\n",
    "    'within_1km': 1000\n",
    "}\n",
    "\n",
    "# create columns \n",
    "for col in buffers:\n",
    "    sensors_proj[col] = False\n",
    "\n",
    "# assign True if the sensor point is within the buffer\n",
    "for col, dist in buffers.items():\n",
    "    buf = heaton_poly_proj.buffer(dist)\n",
    "    sensors_proj[col] = sensors_proj.geometry.within(buf)\n",
    "\n",
    "\n",
    "sensors[['within_50m','within_100m','within_500m','within_1km']] = sensors_proj[['within_50m','within_100m','within_500m','within_1km']]\n",
    "\n",
    "print(\"-----Sensors-----\")\n",
    "print(sensors.head(3))\n"
   ]
  },
  {
   "cell_type": "markdown",
   "id": "7f5fd0ac",
   "metadata": {},
   "source": [
    "# get data within pre-during-post"
   ]
  },
  {
   "cell_type": "markdown",
   "id": "4c13562f",
   "metadata": {},
   "source": [
    "Filters went in around October 2022. They came out around April 22 2024. See https://www.spaceforheaton.com/category/ltn/"
   ]
  },
  {
   "cell_type": "code",
   "execution_count": null,
   "id": "d12bb0f5",
   "metadata": {},
   "outputs": [],
   "source": [
    "traffic['dt'] = pd.to_datetime(traffic['dt'])\n",
    "cutoff = pd.Timestamp('2024-04-22')\n",
    "traffic['period'] = traffic['dt'].apply(lambda x: 'during' if x < cutoff else 'post')"
   ]
  },
  {
   "cell_type": "code",
   "execution_count": null,
   "id": "3955be11",
   "metadata": {},
   "outputs": [],
   "source": [
    "traffic = traffic.merge(\n",
    "    sensors[['location','within_50m']],\n",
    "    on='location',\n",
    "    how='left'\n",
    ")\n",
    "\n",
    "# ensure dt is datetime and date column exists\n",
    "traffic['dt'] = pd.to_datetime(traffic['dt'])\n",
    "traffic['date'] = traffic['dt'].dt.date\n",
    "\n",
    "# group by period, date, veh_class, and within_50m and compute daily sum\n",
    "daily = (\n",
    "    traffic.groupby(['period', 'within_50m', 'date', 'veh_class'])['value']\n",
    "    .sum()\n",
    "    .reset_index()\n",
    ")\n",
    "\n",
    "# compute average daily value per veh_class, period, and within_50m\n",
    "avg_daily = (\n",
    "    daily.groupby(['period','within_50m','veh_class'])['value']\n",
    "    .mean()\n",
    "    .reset_index()\n",
    ")\n",
    "\n",
    "# pivot for plotting: veh_class as index, multi-columns (period + within_50m)\n",
    "avg_pivot = avg_daily.pivot_table(\n",
    "    index='veh_class', \n",
    "    columns=['period','within_50m'], \n",
    "    values='value'\n",
    ")\n",
    "\n",
    "# plot\n",
    "avg_pivot.plot(kind='bar', figsize=(12,6))\n",
    "plt.ylabel('Average Daily Value')\n",
    "plt.title('Average Daily Traffic per Vehicle Class\\nDuring vs Post, Within 50m vs Elsewhere')\n",
    "plt.xticks(rotation=45)\n",
    "plt.tight_layout()\n",
    "plt.show()\n"
   ]
  }
 ],
 "metadata": {
  "kernelspec": {
   "display_name": "growbikenet",
   "language": "python",
   "name": "python3"
  },
  "language_info": {
   "codemirror_mode": {
    "name": "ipython",
    "version": 3
   },
   "file_extension": ".py",
   "mimetype": "text/x-python",
   "name": "python",
   "nbconvert_exporter": "python",
   "pygments_lexer": "ipython3",
   "version": "3.12.6"
  }
 },
 "nbformat": 4,
 "nbformat_minor": 5
}
