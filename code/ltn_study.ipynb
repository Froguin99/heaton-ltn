{
 "cells": [
  {
   "cell_type": "code",
   "execution_count": 1,
   "id": "e7d2aa00",
   "metadata": {},
   "outputs": [],
   "source": [
    "import pandas as pd"
   ]
  },
  {
   "cell_type": "code",
   "execution_count": 25,
   "id": "87aba520",
   "metadata": {},
   "outputs": [],
   "source": [
    "heaton_traffic_data = pd.read_parquet(\"heaton_traffic.parquet\")\n",
    "heaton_sensor_data = pd.read_parquet(\"heaton_sensors.parquet\")\n"
   ]
  },
  {
   "cell_type": "code",
   "execution_count": 26,
   "id": "9943a260",
   "metadata": {},
   "outputs": [
    {
     "data": {
      "text/plain": [
       "veh_class\n",
       "person     1890512\n",
       "car        1138521\n",
       "pc          838072\n",
       "lgv         613023\n",
       "psv         514257\n",
       "buggy       226218\n",
       "ogv1        159008\n",
       "mc          128098\n",
       "scooter      33359\n",
       "ogv2         12554\n",
       "Name: count, dtype: int64"
      ]
     },
     "execution_count": 26,
     "metadata": {},
     "output_type": "execute_result"
    }
   ],
   "source": [
    "heaton_traffic_df[\"veh_class\"].value_counts()"
   ]
  },
  {
   "cell_type": "code",
   "execution_count": null,
   "id": "fa4122f3",
   "metadata": {},
   "outputs": [],
   "source": []
  }
 ],
 "metadata": {
  "kernelspec": {
   "display_name": "growbikenet",
   "language": "python",
   "name": "python3"
  },
  "language_info": {
   "codemirror_mode": {
    "name": "ipython",
    "version": 3
   },
   "file_extension": ".py",
   "mimetype": "text/x-python",
   "name": "python",
   "nbconvert_exporter": "python",
   "pygments_lexer": "ipython3",
   "version": "3.12.6"
  }
 },
 "nbformat": 4,
 "nbformat_minor": 5
}
